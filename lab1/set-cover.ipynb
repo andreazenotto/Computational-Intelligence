{
 "cells": [
  {
   "cell_type": "markdown",
   "metadata": {},
   "source": [
    "# Set Cover problem\n",
    "\n",
    "See: https://en.wikipedia.org/wiki/Set_cover_problem"
   ]
  },
  {
   "cell_type": "code",
   "execution_count": 389,
   "metadata": {},
   "outputs": [],
   "source": [
    "from random import random, seed\n",
    "from itertools import product\n",
    "import numpy as np\n",
    "from icecream import ic\n",
    "from matplotlib import pyplot as plt\n",
    "from itertools import accumulate"
   ]
  },
  {
   "cell_type": "markdown",
   "metadata": {},
   "source": [
    "## Reproducible Initialization\n",
    "\n",
    "If you want to get reproducible results, use `rng` (and restart the kernel); for non-reproducible ones, use `np.random`."
   ]
  },
  {
   "cell_type": "code",
   "execution_count": 390,
   "metadata": {},
   "outputs": [],
   "source": [
    "UNIVERSE_SIZE = [100, 1000, 10000, 100000, 100000, 100000] \n",
    "NUM_SETS = [10, 100, 1000, 10000, 10000, 10000] \n",
    "DENSITY = [0.2, 0.2, 0.2, 0.1, 0.2, 0.3]\n",
    "\n",
    "# rng = np.random.Generator(np.random.PCG64([UNIVERSE_SIZE, NUM_SETS, int(10_000 * DENSITY)]))"
   ]
  },
  {
   "cell_type": "markdown",
   "metadata": {},
   "source": [
    "## Helper Functions"
   ]
  },
  {
   "cell_type": "code",
   "execution_count": 391,
   "metadata": {},
   "outputs": [],
   "source": [
    "# Checks whether the solution is valid (i.e., covers all elements of the universe)\n",
    "def valid(SETS, solution):\n",
    "    # Use logical OR across the rows of SETS that are marked as True in the solution\n",
    "    return np.all(np.logical_or.reduce(SETS[solution]))\n",
    "\n",
    "# Returns the cost of a solution, which is to be minimized\n",
    "def cost(COSTS, solution):\n",
    "    # Sum the costs corresponding to the selected sets in the solution\n",
    "    return COSTS[solution].sum()\n",
    "\n",
    "# Returns the fitness of a solution as a tuple\n",
    "def fitness(instance, solution):\n",
    "    (SETS, COSTS) = instance\n",
    "    # Fitness includes validity (True if all elements are covered) and the negative cost\n",
    "    return (valid(SETS, solution), -cost(COSTS, solution))\n",
    "\n",
    "# Generates sets and costs based on the specified parameters\n",
    "def generate_sets_and_costs(UNIVERSE_SIZE, NUM_SETS, DENSITY):\n",
    "    # Create a random matrix of booleans indicating which sets cover which elements of the universe\n",
    "    SETS = np.random.random((NUM_SETS, UNIVERSE_SIZE)) < DENSITY\n",
    "    \n",
    "    # Ensure every element in the universe is covered by at least one set\n",
    "    for s in range(UNIVERSE_SIZE):\n",
    "        if not np.any(SETS[:, s]):\n",
    "            SETS[np.random.randint(NUM_SETS), s] = True\n",
    "            \n",
    "    # Calculate costs for each set based on the number of elements it covers\n",
    "    COSTS = np.pow(SETS.sum(axis=1), 1.1)  # Increase cost with more coverage\n",
    "    return (SETS, COSTS)\n",
    "\n",
    "# Generates a random starting solution that is guaranteed to be valid\n",
    "def generate_starting_solution(i, instance):\n",
    "    # Create a random solution where each set is included with a probability of 0.5\n",
    "    solution = np.random.random(NUM_SETS[i]) < 0.5\n",
    "    # Regenerate the solution until it is valid (covers all elements of the universe)\n",
    "    while not valid(instance[0], solution):\n",
    "        solution = np.random.random(NUM_SETS[i]) < 0.5\n",
    "    return solution\n",
    "\n",
    "# Plots the fitness history over iterations\n",
    "def plot_fitness(history, title): \n",
    "    plt.figure(figsize=(14, 8))  # Set figure size\n",
    "    plt.plot(\n",
    "       range(len(history)),\n",
    "       list(accumulate(history, max)),  # Plot cumulative max fitness values\n",
    "       color=\"red\",\n",
    "       label=\"Negative Cost (Cumulative)\"\n",
    "    )\n",
    "    # Scatter plot of individual fitness values\n",
    "    _ = plt.scatter(range(len(history)), history, marker=\".\", label=\"Negative Cost\")\n",
    "    plt.xlabel(\"Iteration\")\n",
    "    plt.ylabel(\"Fitness Value\")\n",
    "    plt.title(title)\n",
    "    plt.legend()\n",
    "    plt.show()"
   ]
  },
  {
   "cell_type": "markdown",
   "metadata": {},
   "source": [
    "---"
   ]
  },
  {
   "cell_type": "markdown",
   "metadata": {},
   "source": [
    "## Solution"
   ]
  },
  {
   "cell_type": "markdown",
   "metadata": {},
   "source": [
    "### Random-Mutation Hill Climber with Single Mutation"
   ]
  },
  {
   "cell_type": "code",
   "execution_count": 392,
   "metadata": {},
   "outputs": [],
   "source": [
    "# Generates a valid neighbor solution by tweaking the current one\n",
    "def single_mutation(i, solution):\n",
    "    new_solution = solution.copy()  # Create a copy of the current solution\n",
    "    index = np.random.randint(NUM_SETS[i])  # Randomly select an index to mutate\n",
    "    new_solution[index] = ~new_solution[index]  # Flip the boolean value at the selected index\n",
    "    return new_solution\n",
    "\n",
    "\n",
    "# Performs hill climbing optimization to find a better solution\n",
    "def hill_climber(i, instance, tweak, starting_solution, MAX_STEPS):\n",
    "    solution = starting_solution.copy()  # Initialize the current solution\n",
    "    history = [float(fitness(instance, solution)[1])]  # Track fitness over iterations\n",
    "\n",
    "    for _ in range(MAX_STEPS):\n",
    "        new_solution = tweak(i, solution)  # Generate a new solution\n",
    "        history.append(float(fitness(instance, new_solution)[1]))  # Record fitness of the new solution\n",
    "        \n",
    "        current_fitness = fitness(instance, solution)  # Get fitness of the current solution\n",
    "        new_fitness = fitness(instance, new_solution)  # Get fitness of the new solution\n",
    "\n",
    "        # If the new solution has higher fitness, update the current solution\n",
    "        if new_fitness > current_fitness:\n",
    "            solution = new_solution\n",
    "            current_fitness = new_fitness\n",
    "    \n",
    "    # Plot fitness history for the hill climbing process\n",
    "    plot_fitness(history, f\"Hill Climbing for {UNIVERSE_SIZE[i]} universe size, {NUM_SETS[i]} sets and density {DENSITY[i]}\")\n",
    "\n",
    "    return solution"
   ]
  },
  {
   "cell_type": "code",
   "execution_count": null,
   "metadata": {},
   "outputs": [],
   "source": [
    "# Parameter for Hill Climbing\n",
    "MAX_STEPS = 1000\n",
    "\n",
    "# Run Hill Climbing with single mutation for different instances\n",
    "for i in range(6):\n",
    "    # Generate sets and costs for the current universe size and density\n",
    "    instance = generate_sets_and_costs(UNIVERSE_SIZE[i], NUM_SETS[i], DENSITY[i])\n",
    "    # Generate a valid starting solution for the current instance\n",
    "    starting_solution = generate_starting_solution(i, instance)\n",
    "    # Perform hill climbing optimization using single mutation\n",
    "    solution = hill_climber(i, instance, single_mutation, starting_solution, MAX_STEPS)\n",
    "    # Print or log the results: universe size, number of sets, density, validity, and cost of the solution\n",
    "    ic(UNIVERSE_SIZE[i], NUM_SETS[i], DENSITY[i], valid(instance[0], solution), cost(instance[1], solution))"
   ]
  },
  {
   "cell_type": "markdown",
   "metadata": {},
   "source": [
    "### Random-Mutation Hill Climber with Multiple Mutations"
   ]
  },
  {
   "cell_type": "code",
   "execution_count": 394,
   "metadata": {},
   "outputs": [],
   "source": [
    "# Generates a valid neighbor solution by tweaking the current one multiple times\n",
    "def multiple_mutations(i, solution):\n",
    "    new_solution = solution.copy()  # Create a copy of the current solution\n",
    "    index = None  # Initialize index variable\n",
    "\n",
    "    # Randomly mutate sets while a certain condition is met\n",
    "    while index is None or np.random.random() < 0.4:\n",
    "        index = np.random.randint(NUM_SETS[i])  # Randomly select an index to mutate\n",
    "        new_solution[index] = ~new_solution[index]  # Flip the boolean value at the selected index\n",
    "        \n",
    "    return new_solution  # Return the mutated solution"
   ]
  },
  {
   "cell_type": "code",
   "execution_count": null,
   "metadata": {},
   "outputs": [],
   "source": [
    "# Run Hill Climbing with multiple mutations\n",
    "for i in range(6):\n",
    "    instance = generate_sets_and_costs(UNIVERSE_SIZE[i], NUM_SETS[i], DENSITY[i])\n",
    "    starting_solution = generate_starting_solution(i, instance)\n",
    "    solution = hill_climber(i, instance, multiple_mutations, starting_solution, MAX_STEPS)\n",
    "    ic(UNIVERSE_SIZE[i], NUM_SETS[i], DENSITY[i], valid(instance[0], solution), cost(instance[1], solution))"
   ]
  },
  {
   "cell_type": "markdown",
   "metadata": {},
   "source": [
    "---"
   ]
  },
  {
   "cell_type": "markdown",
   "metadata": {},
   "source": [
    "### Random-Mutation Hill Climber with Single and Multiple Mutations, starting from a Greedy solution"
   ]
  },
  {
   "cell_type": "code",
   "execution_count": 396,
   "metadata": {},
   "outputs": [],
   "source": [
    "# Generates a greedy solution for the set cover problem\n",
    "def greedy_solution(i, instance):\n",
    "    SETS, _ = instance  # Extract the sets from the instance\n",
    "    covered = np.full(UNIVERSE_SIZE[i], False)  # Track which elements are covered\n",
    "    solution = np.full(NUM_SETS[i], False)  # Initialize the solution array\n",
    "\n",
    "    # Continue until all elements in the universe are covered\n",
    "    while not valid(SETS, solution):\n",
    "        best_coverage = -1  # Initialize best coverage found\n",
    "        best_set = -1  # Initialize the best set index\n",
    "\n",
    "        # Evaluate each set to find the one that covers the most uncovered elements\n",
    "        for s in range(NUM_SETS[i]):\n",
    "            if not solution[s]:  # Only consider sets that are not yet included\n",
    "                new_covered = np.logical_and(SETS[s], ~covered)  # Determine new coverage\n",
    "                coverage = np.sum(new_covered)  # Count the number of new elements covered\n",
    "                \n",
    "                # Update best coverage and set if the current one is better\n",
    "                if coverage > best_coverage:\n",
    "                    best_coverage = coverage\n",
    "                    best_set = s\n",
    "        \n",
    "        # Include the best set in the solution\n",
    "        solution[best_set] = True\n",
    "        # Update the covered elements with the newly included set\n",
    "        covered = np.logical_or(SETS[best_set], covered)\n",
    "\n",
    "    return solution"
   ]
  },
  {
   "cell_type": "code",
   "execution_count": null,
   "metadata": {},
   "outputs": [],
   "source": [
    "# Run Hill Climbing with single mutations, starting from a greedy solution\n",
    "for i in range(6):\n",
    "    # Generate sets and costs for the current universe size and density\n",
    "    instance = generate_sets_and_costs(UNIVERSE_SIZE[i], NUM_SETS[i], DENSITY[i])\n",
    "    # Generate a starting solution using the greedy approach\n",
    "    starting_solution = greedy_solution(i, instance)\n",
    "    # Perform hill climbing optimization using single mutation\n",
    "    solution = hill_climber(i, instance, single_mutation, starting_solution, MAX_STEPS)\n",
    "    # Print or log the results: universe size, number of sets, density, validity, and cost of the solution\n",
    "    ic(UNIVERSE_SIZE[i], NUM_SETS[i], DENSITY[i], valid(instance[0], solution), cost(instance[1], solution))\n"
   ]
  },
  {
   "cell_type": "code",
   "execution_count": null,
   "metadata": {},
   "outputs": [],
   "source": [
    "# Run Hill Climbing with multiple mutations, starting from a greedy solution\n",
    "for i in range(6):\n",
    "    # Generate sets and costs for the current universe size and density\n",
    "    instance = generate_sets_and_costs(UNIVERSE_SIZE[i], NUM_SETS[i], DENSITY[i])\n",
    "    # Generate a starting solution using the greedy approach\n",
    "    starting_solution = greedy_solution(i, instance)\n",
    "    # Perform hill climbing optimization using multiple mutations\n",
    "    solution = hill_climber(i, instance, multiple_mutations, starting_solution, MAX_STEPS)\n",
    "    # Print or log the results: universe size, number of sets, density, validity, and cost of the solution\n",
    "    ic(UNIVERSE_SIZE[i], NUM_SETS[i], DENSITY[i], valid(instance[0], solution), cost(instance[1], solution))\n"
   ]
  },
  {
   "cell_type": "markdown",
   "metadata": {},
   "source": [
    "---"
   ]
  },
  {
   "cell_type": "markdown",
   "metadata": {},
   "source": [
    "### Simulated Annealing with Single Mutation"
   ]
  },
  {
   "cell_type": "code",
   "execution_count": 399,
   "metadata": {},
   "outputs": [],
   "source": [
    "# Performs simulated annealing optimization to find a solution\n",
    "def simulated_annealing(i, instance, tweak, starting_solution, initial_temp, final_temp, alpha):\n",
    "    solution = starting_solution  # Initialize the current solution\n",
    "    temperature = initial_temp  # Set the initial temperature\n",
    "    history = [float(fitness(instance, solution)[1])]  # Track the fitness over iterations\n",
    "\n",
    "    # Continue until the temperature is below the final threshold\n",
    "    while temperature > final_temp:\n",
    "        new_solution = tweak(i, solution)  # Generate a new solution by tweaking the current one\n",
    "        history.append(float(fitness(instance, new_solution)[1]))  # Record the fitness of the new solution\n",
    "\n",
    "        # Check if the new solution is better; accept it if so\n",
    "        if fitness(instance, new_solution) > fitness(instance, solution):\n",
    "            solution = new_solution\n",
    "        elif valid(instance[0], new_solution):  # Check if the new solution is valid\n",
    "            # Calculate acceptance probability for worse solutions\n",
    "            acceptance_probability = np.exp((cost(instance[0], solution) - cost(instance[1], new_solution)) / (temperature * NUM_SETS[i]))\n",
    "            # Accept the new solution based on probability\n",
    "            if np.random.random() < acceptance_probability:\n",
    "                solution = new_solution\n",
    "        \n",
    "        # Lower the temperature to reduce the probability of accepting worse solutions over time\n",
    "        temperature *= alpha\n",
    "\n",
    "    # Plot the fitness history for the simulated annealing process\n",
    "    plot_fitness(history, f\"Simulated Annealing for {UNIVERSE_SIZE[i]} universe size, {NUM_SETS[i]} sets and density {DENSITY[i]}\")\n",
    "\n",
    "    return solution"
   ]
  },
  {
   "cell_type": "code",
   "execution_count": null,
   "metadata": {},
   "outputs": [],
   "source": [
    "# Parameters for Simulated Annealing\n",
    "initial_temp = 1000  # Initial temperature for the annealing process\n",
    "final_temp = 0.001   # Final temperature threshold for stopping\n",
    "alpha = 0.995        # Cooling factor for reducing the temperature\n",
    "\n",
    "# Run Simulated Annealing with single mutation\n",
    "for i in range(6):\n",
    "    # Generate sets and costs for the current universe size and density\n",
    "    instance = generate_sets_and_costs(UNIVERSE_SIZE[i], NUM_SETS[i], DENSITY[i])\n",
    "    # Generate a valid starting solution for the current instance\n",
    "    starting_solution = generate_starting_solution(i, instance)\n",
    "    # Perform simulated annealing optimization using single mutation\n",
    "    solution = simulated_annealing(i, instance, single_mutation, starting_solution, initial_temp, final_temp, alpha)\n",
    "    # Print or log the results: universe size, number of sets, density, validity, and cost of the solution\n",
    "    ic(UNIVERSE_SIZE[i], NUM_SETS[i], DENSITY[i], valid(instance[0], solution), cost(instance[1], solution))"
   ]
  },
  {
   "cell_type": "markdown",
   "metadata": {},
   "source": [
    "### Simulated Annealing with Multiple Mutations"
   ]
  },
  {
   "cell_type": "code",
   "execution_count": null,
   "metadata": {},
   "outputs": [],
   "source": [
    "# Run Simulated Annealing with multiple mutations for different instances\n",
    "for i in range(3,6):\n",
    "    # Generate sets and costs for the current universe size and density\n",
    "    instance = generate_sets_and_costs(UNIVERSE_SIZE[i], NUM_SETS[i], DENSITY[i])\n",
    "    # Generate a valid starting solution for the current instance\n",
    "    starting_solution = generate_starting_solution(i, instance)\n",
    "    # Perform simulated annealing optimization using multiple mutations\n",
    "    solution = simulated_annealing(i, instance, multiple_mutations, starting_solution, initial_temp, final_temp, alpha)\n",
    "    # Print or log the results: universe size, number of sets, density, validity, and cost of the solution\n",
    "    ic(UNIVERSE_SIZE[i], NUM_SETS[i], DENSITY[i], valid(instance[0], solution), cost(instance[1], solution))"
   ]
  },
  {
   "cell_type": "markdown",
   "metadata": {},
   "source": [
    "---"
   ]
  },
  {
   "cell_type": "markdown",
   "metadata": {},
   "source": [
    "### Simulated Annealing with Single and Multiple Mutations, starting from a Greedy solution"
   ]
  },
  {
   "cell_type": "code",
   "execution_count": null,
   "metadata": {},
   "outputs": [],
   "source": [
    "# Run Simulated Annealing with single mutation, starting from a greedy solution\n",
    "for i in range(6):\n",
    "    # Generate sets and costs for the current universe size and density\n",
    "    instance = generate_sets_and_costs(UNIVERSE_SIZE[i], NUM_SETS[i], DENSITY[i])\n",
    "    # Generate a starting solution using the greedy approach\n",
    "    starting_solution = greedy_solution(i, instance)\n",
    "    # Perform simulated annealing optimization using single mutation\n",
    "    solution = simulated_annealing(i, instance, single_mutation, starting_solution, initial_temp, final_temp, alpha)\n",
    "    # Print or log the results: universe size, number of sets, density, validity, and cost of the solution\n",
    "    ic(UNIVERSE_SIZE[i], NUM_SETS[i], DENSITY[i], valid(instance[0], solution), cost(instance[1], solution))"
   ]
  },
  {
   "cell_type": "code",
   "execution_count": null,
   "metadata": {},
   "outputs": [],
   "source": [
    "# Run Simulated Annealing with multiple mutations, starting from a greedy solution\n",
    "for i in range(6):\n",
    "    # Generate sets and costs for the current universe size and density\n",
    "    instance = generate_sets_and_costs(UNIVERSE_SIZE[i], NUM_SETS[i], DENSITY[i])\n",
    "    # Generate a starting solution using the greedy approach\n",
    "    starting_solution = greedy_solution(i, instance)\n",
    "    # Perform simulated annealing optimization using multiple mutations\n",
    "    solution = simulated_annealing(i, instance, multiple_mutations, starting_solution, initial_temp, final_temp, alpha)\n",
    "    # Print or log the results: universe size, number of sets, density, validity, and cost of the solution\n",
    "    ic(UNIVERSE_SIZE[i], NUM_SETS[i], DENSITY[i], valid(instance[0], solution), cost(instance[1], solution))"
   ]
  }
 ],
 "metadata": {
  "kernelspec": {
   "display_name": "Python 3 (ipykernel)",
   "language": "python",
   "name": "python3"
  },
  "language_info": {
   "codemirror_mode": {
    "name": "ipython",
    "version": 3
   },
   "file_extension": ".py",
   "mimetype": "text/x-python",
   "name": "python",
   "nbconvert_exporter": "python",
   "pygments_lexer": "ipython3",
   "version": "3.12.0"
  }
 },
 "nbformat": 4,
 "nbformat_minor": 4
}
