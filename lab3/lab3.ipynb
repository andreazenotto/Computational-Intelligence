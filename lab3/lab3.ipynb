{
 "cells": [
  {
   "cell_type": "markdown",
   "metadata": {
    "id": "aUTSjL0h7zbH"
   },
   "source": [
    "## Lab3 - N-Puzzle\n",
    "\n",
    "Solve efficiently a generic $n^2-1$ puzzle (also known as Gem Puzzle, Boss Puzzle, Mystic Square, etc.) using path-search algorithms."
   ]
  },
  {
   "cell_type": "code",
   "execution_count": 1,
   "metadata": {
    "executionInfo": {
     "elapsed": 309,
     "status": "ok",
     "timestamp": 1731927739772,
     "user": {
      "displayName": "Andrea Zenotto",
      "userId": "12602615420669510657"
     },
     "user_tz": -60
    },
    "id": "Ot1rdehw7zbI"
   },
   "outputs": [],
   "source": [
    "from collections import namedtuple\n",
    "from random import choice\n",
    "import numpy as np\n",
    "from queue import PriorityQueue"
   ]
  },
  {
   "cell_type": "markdown",
   "metadata": {
    "id": "ueZEt2Cq7zbJ"
   },
   "source": [
    "### Helper Functions"
   ]
  },
  {
   "cell_type": "code",
   "execution_count": 2,
   "metadata": {
    "executionInfo": {
     "elapsed": 412,
     "status": "ok",
     "timestamp": 1731927748903,
     "user": {
      "displayName": "Andrea Zenotto",
      "userId": "12602615420669510657"
     },
     "user_tz": -60
    },
    "id": "Sr2dZ1027zbJ"
   },
   "outputs": [],
   "source": [
    "# Tuple to represent an action in the puzzle\n",
    "action = namedtuple('Action', ['pos1', 'pos2'])\n",
    "\n",
    "# Function to get available actions for a given state\n",
    "def available_actions(state):\n",
    "    n = state.shape[0]\n",
    "    x, y = [int(_[0]) for _ in np.where(state == 0)]\n",
    "    actions = list()\n",
    "    if x > 0:\n",
    "        actions.append(action((x, y), (x - 1, y)))\n",
    "    if x < n - 1:\n",
    "        actions.append(action((x, y), (x + 1, y)))\n",
    "    if y > 0:\n",
    "        actions.append(action((x, y), (x, y - 1)))\n",
    "    if y < n - 1:\n",
    "        actions.append(action((x, y), (x, y + 1)))\n",
    "    return actions\n",
    "\n",
    "\n",
    "# Function to perform an action on the current state\n",
    "def do_action(state, action):\n",
    "    new_state = state.copy()\n",
    "    new_state[action.pos1], new_state[action.pos2] = new_state[action.pos2], new_state[action.pos1]\n",
    "    return new_state\n",
    "\n",
    "\n",
    "# Function to generate the solved puzzle\n",
    "def generate_puzzle(PUZZLE_DIM):\n",
    "    goal_state = np.array([i for i in range(1, PUZZLE_DIM**2)] + [0]).reshape((PUZZLE_DIM, PUZZLE_DIM))\n",
    "    return goal_state\n",
    "\n",
    "\n",
    "# Function to shuffle the puzzle\n",
    "def shuffle_puzzle(goal_state, RANDOMIZE_STEPS):\n",
    "    start_state = goal_state.copy()\n",
    "    for r in range(RANDOMIZE_STEPS):\n",
    "        start_state = do_action(start_state, choice(available_actions(start_state)))\n",
    "    return start_state"
   ]
  },
  {
   "cell_type": "markdown",
   "metadata": {
    "id": "IzC2jrLc7zbK"
   },
   "source": [
    "### Definition of the PuzzleState class"
   ]
  },
  {
   "cell_type": "code",
   "execution_count": 3,
   "metadata": {
    "executionInfo": {
     "elapsed": 319,
     "status": "ok",
     "timestamp": 1731927752069,
     "user": {
      "displayName": "Andrea Zenotto",
      "userId": "12602615420669510657"
     },
     "user_tz": -60
    },
    "id": "wp_d-mm37zbK"
   },
   "outputs": [],
   "source": [
    "class PuzzleState:\n",
    "    def __init__(self, state, g, path):\n",
    "        self.state = state\n",
    "        self.g = g\n",
    "        self.path = path\n",
    "        self.h = self.manhattan_distance()\n",
    "        self.f = self.g + self.h\n",
    "\n",
    "    # Calculate the Manhattan distance heuristic\n",
    "    def manhattan_distance(self):\n",
    "        distance = 0\n",
    "        n = self.state.shape[0]\n",
    "        for i in range(n):\n",
    "            for j in range(n):\n",
    "                if self.state[i, j] != 0:\n",
    "                    x_goal, y_goal = divmod(self.state[i, j] - 1, n)\n",
    "                    distance += abs(i - x_goal) + abs(j - y_goal)\n",
    "        return distance\n",
    "\n",
    "    # Check if two PuzzleState objects are equal (same state configuration)\n",
    "    def __eq__(self, other):\n",
    "        return np.array_equal(self.state, other.state)\n",
    "\n",
    "    # Generate a hash value for the PuzzleState object to be used in sets or dictionaries\n",
    "    def __hash__(self):\n",
    "        return hash(self.state.tobytes())\n",
    "\n",
    "    # Compare PuzzleState objects based on the f value (used in priority queues)\n",
    "    def __lt__(self, other):\n",
    "        return self.f < other.f\n",
    "\n",
    "    # Provide a string representation of the PuzzleState object for debugging or printing\n",
    "    def __repr__(self):\n",
    "        return f\"\\n{self.state}\""
   ]
  },
  {
   "cell_type": "markdown",
   "metadata": {
    "id": "yKDayN5R7zbK"
   },
   "source": [
    "### Implement the A* algorithm"
   ]
  },
  {
   "cell_type": "code",
   "execution_count": 5,
   "metadata": {
    "executionInfo": {
     "elapsed": 303,
     "status": "ok",
     "timestamp": 1731927760193,
     "user": {
      "displayName": "Andrea Zenotto",
      "userId": "12602615420669510657"
     },
     "user_tz": -60
    },
    "id": "CHYCIFYh7zbK"
   },
   "outputs": [],
   "source": [
    "def a_star(start_state, goal_state):\n",
    "    # Priority queue\n",
    "    queue = PriorityQueue()\n",
    "    start = PuzzleState(start_state, 0, [])\n",
    "    goal_state = PuzzleState(goal_state, 0, [])\n",
    "    # Insert the starting state\n",
    "    queue.put(start)\n",
    "    # States already visited\n",
    "    visited = set()\n",
    "    # Actions counter\n",
    "    num_actions_evaluated = 0\n",
    "\n",
    "    while not queue.empty():\n",
    "        current_state = queue.get()\n",
    "\n",
    "        # If we reach the goal\n",
    "        if current_state == goal_state:\n",
    "            return current_state.path, current_state.g, num_actions_evaluated\n",
    "\n",
    "        # Avoid revisiting already explored states\n",
    "        if current_state not in visited:\n",
    "            visited.add(current_state)\n",
    "\n",
    "            # Generate successors\n",
    "            for action in available_actions(current_state.state):\n",
    "                new_state = do_action(current_state.state, action)\n",
    "                new_path = current_state.path + [action]\n",
    "                new_g = current_state.g + 1\n",
    "                new_state_obj = PuzzleState(new_state, new_g, new_path)\n",
    "                queue.put(new_state_obj)\n",
    "                num_actions_evaluated += 1\n",
    "\n",
    "    # If no solution is found\n",
    "    return None, -1, num_actions_evaluated"
   ]
  },
  {
   "cell_type": "markdown",
   "metadata": {
    "id": "o7kqDj3W7zbK"
   },
   "source": [
    "### Main code block to generate, shuffle, and solve the puzzle"
   ]
  },
  {
   "cell_type": "code",
   "execution_count": 6,
   "metadata": {
    "executionInfo": {
     "elapsed": 318,
     "status": "ok",
     "timestamp": 1731927763128,
     "user": {
      "displayName": "Andrea Zenotto",
      "userId": "12602615420669510657"
     },
     "user_tz": -60
    },
    "id": "urE5U4tZ7zbL"
   },
   "outputs": [],
   "source": [
    "def solve_puzzle(PUZZLE_DIM, RANDOMIZE_STEPS):\n",
    "    # Generate the solved puzzle and shuffle it\n",
    "    goal_state = generate_puzzle(PUZZLE_DIM)\n",
    "    start_state = shuffle_puzzle(goal_state, RANDOMIZE_STEPS)\n",
    "    print(f\"Start state:\\n{start_state}\\n\")\n",
    "\n",
    "    # Solve the puzzle\n",
    "    moves, num_solution_actions, num_actions_evaluated = a_star(start_state, goal_state)\n",
    "    print(f\"Solution found in {num_solution_actions} moves\")\n",
    "    print(f\"Total number of actions evaluated: {num_actions_evaluated}\")"
   ]
  },
  {
   "cell_type": "markdown",
   "metadata": {
    "id": "awJemUoR7zbL"
   },
   "source": [
    "### Solve the 8-puzzle (3x3)"
   ]
  },
  {
   "cell_type": "code",
   "execution_count": null,
   "metadata": {
    "colab": {
     "base_uri": "https://localhost:8080/"
    },
    "executionInfo": {
     "elapsed": 1563,
     "status": "ok",
     "timestamp": 1731927768342,
     "user": {
      "displayName": "Andrea Zenotto",
      "userId": "12602615420669510657"
     },
     "user_tz": -60
    },
    "id": "ykc6GVGn7zbL",
    "outputId": "e555bcdf-8589-4615-c313-cda61454b648"
   },
   "outputs": [
    {
     "name": "stdout",
     "output_type": "stream",
     "text": [
      "Start state:\n",
      "[[3 7 4]\n",
      " [6 0 8]\n",
      " [5 2 1]]\n",
      "\n",
      "Solution found in 26 moves\n",
      "Total number of actions evaluated: 3811\n"
     ]
    }
   ],
   "source": [
    "solve_puzzle(PUZZLE_DIM=3, RANDOMIZE_STEPS=100000)"
   ]
  },
  {
   "cell_type": "markdown",
   "metadata": {
    "id": "Y4Wq6L777zbL"
   },
   "source": [
    "### Solve the 15-puzzle (4x4)"
   ]
  },
  {
   "cell_type": "code",
   "execution_count": null,
   "metadata": {
    "colab": {
     "base_uri": "https://localhost:8080/"
    },
    "executionInfo": {
     "elapsed": 109222,
     "status": "ok",
     "timestamp": 1731927879749,
     "user": {
      "displayName": "Andrea Zenotto",
      "userId": "12602615420669510657"
     },
     "user_tz": -60
    },
    "id": "ywEUvHEe7zbL",
    "outputId": "ad04a2cb-7f04-408f-a740-8cec27fa67c1"
   },
   "outputs": [
    {
     "name": "stdout",
     "output_type": "stream",
     "text": [
      "Start state:\n",
      "[[ 0  9  6  8]\n",
      " [ 2 13 11  7]\n",
      " [10  4  5 12]\n",
      " [ 1 14  3 15]]\n",
      "\n",
      "Solution found in 42 moves\n",
      "Total number of actions evaluated: 1650528\n"
     ]
    }
   ],
   "source": [
    "solve_puzzle(PUZZLE_DIM=4, RANDOMIZE_STEPS=100000)"
   ]
  }
 ],
 "metadata": {
  "accelerator": "GPU",
  "colab": {
   "gpuType": "T4",
   "provenance": []
  },
  "kernelspec": {
   "display_name": ".venv",
   "language": "python",
   "name": "python3"
  },
  "language_info": {
   "codemirror_mode": {
    "name": "ipython",
    "version": 3
   },
   "file_extension": ".py",
   "mimetype": "text/x-python",
   "name": "python",
   "nbconvert_exporter": "python",
   "pygments_lexer": "ipython3",
   "version": "3.12.0"
  }
 },
 "nbformat": 4,
 "nbformat_minor": 0
}
