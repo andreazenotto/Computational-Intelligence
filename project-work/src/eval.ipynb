{
 "cells": [
  {
   "cell_type": "markdown",
   "metadata": {},
   "source": [
    "## Evaluation"
   ]
  },
  {
   "cell_type": "code",
   "execution_count": 1,
   "metadata": {},
   "outputs": [],
   "source": [
    "import numpy as np\n",
    "import sys\n",
    "sys.path.append(\"..\")\n",
    "from s327473 import f1, f2, f3, f4, f5, f6, f7, f8\n",
    "functions = [f1, f2, f3, f4, f5, f6, f7, f8]"
   ]
  },
  {
   "cell_type": "code",
   "execution_count": null,
   "metadata": {},
   "outputs": [],
   "source": [
    "for n in range(1, 9):\n",
    "    print(f\"Evaluation problem {n}:\")\n",
    "    problem = np.load(f'../data/problem_{n}.npz')\n",
    "    x = problem['x']\n",
    "    y = problem['y']\n",
    "    #print(f\"X shape: {x.shape}\")\n",
    "    print(f\"MSE: {np.square(y-functions[n-1](x)).sum()/len(y):g}\")"
   ]
  }
 ],
 "metadata": {
  "kernelspec": {
   "display_name": "Python 3",
   "language": "python",
   "name": "python3"
  },
  "language_info": {
   "codemirror_mode": {
    "name": "ipython",
    "version": 3
   },
   "file_extension": ".py",
   "mimetype": "text/x-python",
   "name": "python",
   "nbconvert_exporter": "python",
   "pygments_lexer": "ipython3",
   "version": "3.12.0"
  }
 },
 "nbformat": 4,
 "nbformat_minor": 2
}
