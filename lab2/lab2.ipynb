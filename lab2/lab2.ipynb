{
 "cells": [
  {
   "cell_type": "markdown",
   "metadata": {},
   "source": [
    "## Lab2 - TSP\n",
    "\n",
    "https://www.wolframcloud.com/obj/giovanni.squillero/Published/Lab2-tsp.nb\n",
    "\n",
    "Solve the given TSP instances using both a fast but approximate algorithm and a slower, yet more accurate one."
   ]
  },
  {
   "cell_type": "code",
   "execution_count": 332,
   "metadata": {},
   "outputs": [],
   "source": [
    "from itertools import combinations\n",
    "import pandas as pd\n",
    "import numpy as np\n",
    "from geopy.distance import geodesic\n",
    "import random\n",
    "from tqdm import tqdm"
   ]
  },
  {
   "cell_type": "markdown",
   "metadata": {},
   "source": [
    "### Helper Functions"
   ]
  },
  {
   "cell_type": "code",
   "execution_count": 333,
   "metadata": {},
   "outputs": [],
   "source": [
    "# Load data function that reads city coordinates and calculates the distance matrix\n",
    "def load_data(country):\n",
    "    CITIES = pd.read_csv(f'cities/{country}.csv', header=None, names=['name', 'lat', 'lon'])\n",
    "    DIST_MATRIX = np.zeros((len(CITIES), len(CITIES)))\n",
    "    for c1, c2 in combinations(CITIES.itertuples(), 2):\n",
    "        DIST_MATRIX[c1.Index, c2.Index] = DIST_MATRIX[c2.Index, c1.Index] = geodesic(\n",
    "            (c1.lat, c1.lon), (c2.lat, c2.lon)\n",
    "        ).km\n",
    "    return CITIES, DIST_MATRIX"
   ]
  },
  {
   "cell_type": "code",
   "execution_count": 334,
   "metadata": {},
   "outputs": [],
   "source": [
    "# Function to calculate the total travel cost for a given tour (TSP solution)\n",
    "def tsp_cost(tsp, CITIES, DIST_MATRIX):\n",
    "    assert tsp[0] == tsp[-1]\n",
    "    assert set(tsp) == set(range(len(CITIES)))\n",
    "\n",
    "    tot_cost = 0\n",
    "    for c1, c2 in zip(tsp, tsp[1:]):\n",
    "        tot_cost += DIST_MATRIX[c1, c2]\n",
    "    return tot_cost"
   ]
  },
  {
   "cell_type": "code",
   "execution_count": 335,
   "metadata": {},
   "outputs": [],
   "source": [
    "# Function to print the TSP route in a readable format with city names and distances\n",
    "def print_tsp(tsp, CITIES, DIST_MATRIX):\n",
    "    print(\"Miglior percorso trovato:\")\n",
    "    for c1, c2 in zip(tsp, tsp[1:]):\n",
    "        print(f\"{CITIES.at[c1,'name']} -> {CITIES.at[c2,'name']} ({DIST_MATRIX[c1,c2]:.2f} km)\")"
   ]
  },
  {
   "cell_type": "code",
   "execution_count": 336,
   "metadata": {},
   "outputs": [],
   "source": [
    "# Load city data and distance matrix for a specified country\n",
    "country = 'vanuatu'\n",
    "CITIES, DIST_MATRIX = load_data(country)"
   ]
  },
  {
   "cell_type": "markdown",
   "metadata": {},
   "source": [
    "### Nearest Neighbor algorithm"
   ]
  },
  {
   "cell_type": "code",
   "execution_count": 337,
   "metadata": {},
   "outputs": [],
   "source": [
    "def nearest_neighbor_tsp(CITIES, DIST_MATRIX):\n",
    "    # Creates a copy of the distance matrix to avoid modifying the original\n",
    "    dist = DIST_MATRIX.copy()\n",
    "    # Initializes the starting city and an empty path list\n",
    "    city = 0\n",
    "    tsp_path = list()\n",
    "    tsp_path.append(int(city))  # Adds the starting city to the TSP path\n",
    "\n",
    "    # Loops until all cities are visited\n",
    "    while not len(set(range(len(CITIES))) - set(tsp_path)) == 0:\n",
    "        # Marks the current city's distances as infinity to prevent revisiting\n",
    "        dist[:, city] = np.inf\n",
    "        # Finds the closest city to the current one\n",
    "        closest = np.argmin(dist[city])\n",
    "        city = closest  # Updates the current city to the closest unvisited one\n",
    "        tsp_path.append(int(city))  # Adds the closest city to the TSP path\n",
    "\n",
    "    # Returns to the starting city to complete the cycle\n",
    "    tsp_path.append(tsp_path[0])\n",
    "\n",
    "    # Returns the completed path and calculates its total distance\n",
    "    return tsp_path, tsp_cost(tsp_path, CITIES, DIST_MATRIX)\n"
   ]
  },
  {
   "cell_type": "code",
   "execution_count": 338,
   "metadata": {},
   "outputs": [
    {
     "name": "stdout",
     "output_type": "stream",
     "text": [
      "Miglior percorso trovato:\n",
      "Isangel -> Vila (223.00 km)\n",
      "Vila -> Lakatoro (206.74 km)\n",
      "Lakatoro -> Norsup (2.46 km)\n",
      "Norsup -> Luganville (67.09 km)\n",
      "Luganville -> Port Olry (52.02 km)\n",
      "Port Olry -> Longana (105.77 km)\n",
      "Longana -> Sola (165.49 km)\n",
      "Sola -> Isangel (652.96 km)\n",
      "\n",
      "Total distance: 1475.53 km\n"
     ]
    }
   ],
   "source": [
    "# Initializes the process by running the nearest-neighbor TSP and printing the result\n",
    "tsp, cost = nearest_neighbor_tsp(CITIES, DIST_MATRIX)\n",
    "print_tsp(tsp, CITIES, DIST_MATRIX)\n",
    "print(f\"\\nTotal distance: {cost:.2f} km\")"
   ]
  },
  {
   "cell_type": "markdown",
   "metadata": {},
   "source": [
    "### Genetic algorithm"
   ]
  },
  {
   "cell_type": "code",
   "execution_count": 372,
   "metadata": {},
   "outputs": [],
   "source": [
    "# Definition of the Individual class\n",
    "class Individual:\n",
    "    def __init__(self, genome):\n",
    "        self.genome = genome\n",
    "        self.fitness = None \n",
    "\n",
    "# Fitness function based on path cost\n",
    "def fitness(individual, CITIES, DIST_MATRIX):\n",
    "    return -tsp_cost(individual.genome, CITIES, DIST_MATRIX)\n",
    "\n",
    "# Parent selection function, choosing the best parent based on fitness\n",
    "def parent_selection(population):\n",
    "    candidates = sorted(np.random.choice(population, 4), key=lambda e: e.fitness, reverse=True)\n",
    "    return candidates[0]\n",
    "\n",
    "# Mutation that swaps two cities in the path\n",
    "def single_mutation(p: Individual):\n",
    "    genome = p.genome.copy()\n",
    "    # Selects two random indices in the genome (excluding the first and last)\n",
    "    i, j = random.sample(range(1, len(genome)-1), 2)\n",
    "    # Swaps the cities at the chosen indices\n",
    "    genome[i], genome[j] = genome[j], genome[i]\n",
    "    return Individual(genome)\n",
    "\n",
    "# Mutation that inverts a segment of the path\n",
    "def inversion_mutation(p: Individual):\n",
    "    genome = p.genome.copy()\n",
    "    # Selects two random indices in the genome (excluding the first and last)\n",
    "    i, j = np.random.choice(range(1, len(genome) - 1), size=2, replace=False)\n",
    "    if i > j:  # Ensures i is less than j\n",
    "        i, j = j, i\n",
    "    # Reverses the segment of the genome between i and j\n",
    "    genome[i:j] = genome[i:j][::-1]\n",
    "    return Individual(genome)\n",
    "\n",
    "# Order 1 Crossover (OX1) for the TSP\n",
    "def OX1_xover(p1: Individual, p2: Individual):\n",
    "    parent1 = p1.genome[1:-1].copy()  # Excludes the first and last cities (0)\n",
    "    parent2 = p2.genome[1:-1].copy()\n",
    "\n",
    "    size = len(parent1)\n",
    "    # Randomly selects two points for the crossover\n",
    "    start, end = sorted(np.random.choice(range(size), 2))\n",
    "    # Creates an empty child array\n",
    "    child = np.full(size, -1)\n",
    "    # Copies the segment from the first parent\n",
    "    child[start:end] = parent1[start:end]\n",
    "    # Fills the remaining positions with cities from the second parent\n",
    "    current_pos = end\n",
    "    for city in parent2:\n",
    "        if city not in child:\n",
    "            if current_pos >= size:\n",
    "                current_pos = 0  # Wraps around if the end is reached\n",
    "            child[current_pos] = city\n",
    "            current_pos += 1\n",
    "    # Returns the child, adding 0 at the start and end for a complete path\n",
    "    return Individual(np.concatenate(([0], child, [0])))\n",
    "\n",
    "# Inver-Over Crossover function\n",
    "def inver_over_xover(parent1: Individual, parent2: Individual) -> Individual:\n",
    "    child_genome = parent1.genome.copy()\n",
    "    # Selects a random city from the first parent (excluding start/end city 0)\n",
    "    current_city = random.choice(parent1.genome[1:-1])\n",
    "    # Finds the index of the current city in the child genome and in the second parent\n",
    "    current_index = child_genome.index(current_city)\n",
    "    next_city_index_parent2 = (parent2.genome.index(current_city) + 1) % len(parent2.genome)\n",
    "    next_city_parent2 = parent2.genome[next_city_index_parent2]\n",
    "    # Finds the index of the next city in the child genome\n",
    "    next_city_index_child = child_genome.index(next_city_parent2)\n",
    "    # Reverses the order of cities between the current and next city in the child genome\n",
    "    child_genome[current_index + 1:next_city_index_child] = child_genome[current_index + 1:next_city_index_child][::-1]\n",
    "    return Individual(child_genome)"
   ]
  },
  {
   "cell_type": "code",
   "execution_count": 370,
   "metadata": {},
   "outputs": [],
   "source": [
    "def genetic_algorithm(country, CITIES, DIST_MATRIX):\n",
    "    # Parameters for the genetic algorithm\n",
    "    POPULATION_SIZE = 100\n",
    "    OFFSPRING_SIZE = 50\n",
    "    MAX_GENERATIONS = {\n",
    "        'vanuatu': 1000,\n",
    "        'italy': 10000,\n",
    "        'russia': 10000,\n",
    "        'us': 20000,\n",
    "        'china': 30000,\n",
    "    }\n",
    "    crossover = inver_over_xover  # Crossover function to use\n",
    "    mutation = inversion_mutation   # Mutation function to use\n",
    "\n",
    "    # Generate an initial path using the nearest neighbor algorithm\n",
    "    tsp = nearest_neighbor_tsp(CITIES, DIST_MATRIX)[0]\n",
    "\n",
    "    # Create the initial population\n",
    "    population = []\n",
    "    for _ in range(POPULATION_SIZE):\n",
    "        mutated_solution = tsp.copy()\n",
    "        mutated_solution = inversion_mutation(Individual(mutated_solution)).genome\n",
    "        population.append(Individual(mutated_solution))\n",
    "\n",
    "    # Calculate the fitness for each individual in the initial population\n",
    "    for ind in population:\n",
    "        ind.fitness = fitness(ind, CITIES, DIST_MATRIX)\n",
    "\n",
    "    # Main loop of the genetic algorithm, iterating for the defined number of generations\n",
    "    for g in tqdm(range(MAX_GENERATIONS[country]), desc='Generations'):\n",
    "        offspring = []\n",
    "        # Adjust mutation rate that decreases over generations\n",
    "        mutation_rate = max(0.1, (1 - g / MAX_GENERATIONS[country]) * 0.3)\n",
    "        for _ in range(OFFSPRING_SIZE):\n",
    "            if np.random.random() < mutation_rate:\n",
    "                # If mutation is selected, choose a parent and apply mutation\n",
    "                parent = parent_selection(population)\n",
    "                offspring.append(mutation(parent))\n",
    "            else:\n",
    "                # If crossover is selected, choose two parents and apply crossover\n",
    "                parent1 = parent_selection(population)\n",
    "                parent2 = parent_selection(population)\n",
    "                offspring.append(crossover(parent1, parent2))\n",
    "\n",
    "        # Calculate fitness for the newly generated offspring\n",
    "        for ind in offspring:\n",
    "            ind.fitness = fitness(ind, CITIES, DIST_MATRIX)\n",
    "\n",
    "        # Update the population by adding offspring and keeping the best individuals\n",
    "        population.extend(offspring)\n",
    "        population.sort(key=lambda i: i.fitness, reverse=True)\n",
    "        population = population[:POPULATION_SIZE]\n",
    "\n",
    "    return population[0]  # Return the best individual found\n"
   ]
  },
  {
   "cell_type": "code",
   "execution_count": 341,
   "metadata": {},
   "outputs": [
    {
     "name": "stderr",
     "output_type": "stream",
     "text": [
      "Generations: 100%|██████████| 1000/1000 [00:08<00:00, 113.49it/s]"
     ]
    },
    {
     "name": "stdout",
     "output_type": "stream",
     "text": [
      "Miglior percorso trovato:\n",
      "Isangel -> Vila (223.00 km)\n",
      "Vila -> Lakatoro (206.74 km)\n",
      "Lakatoro -> Norsup (2.46 km)\n",
      "Norsup -> Luganville (67.09 km)\n",
      "Luganville -> Port Olry (52.02 km)\n",
      "Port Olry -> Longana (105.77 km)\n",
      "Longana -> Sola (165.49 km)\n",
      "Sola -> Isangel (652.96 km)\n",
      "\n",
      "Total distance: 1475.53 km\n"
     ]
    },
    {
     "name": "stderr",
     "output_type": "stream",
     "text": [
      "\n"
     ]
    }
   ],
   "source": [
    "# Execute the genetic algorithm and retrieve the best path\n",
    "best_path = genetic_algorithm(country, CITIES, DIST_MATRIX)\n",
    "print_tsp(best_path.genome, CITIES, DIST_MATRIX)\n",
    "print(f\"\\nTotal distance: {-best_path.fitness:.2f} km\")"
   ]
  }
 ],
 "metadata": {
  "kernelspec": {
   "display_name": ".venv",
   "language": "python",
   "name": "python3"
  },
  "language_info": {
   "codemirror_mode": {
    "name": "ipython",
    "version": 3
   },
   "file_extension": ".py",
   "mimetype": "text/x-python",
   "name": "python",
   "nbconvert_exporter": "python",
   "pygments_lexer": "ipython3",
   "version": "3.12.0"
  }
 },
 "nbformat": 4,
 "nbformat_minor": 2
}
